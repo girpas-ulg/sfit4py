{
 "cells": [
  {
   "cell_type": "markdown",
   "metadata": {},
   "source": [
    "# Test loading sfit4 test cases folders\n",
    "\n",
    "It just tests if spyfit loads the data without raising error."
   ]
  },
  {
   "cell_type": "code",
   "execution_count": 1,
   "metadata": {
    "collapsed": false,
    "jupyter": {
     "outputs_hidden": false
    }
   },
   "outputs": [],
   "source": [
    "import os\n",
    "\n",
    "import numpy as np\n",
    "import pandas as pd\n",
    "import xarray as xr\n",
    "import spyfit as spy"
   ]
  },
  {
   "cell_type": "code",
   "execution_count": 2,
   "metadata": {
    "collapsed": false,
    "jupyter": {
     "outputs_hidden": false
    }
   },
   "outputs": [
    {
     "name": "stdout",
     "output_type": "stream",
     "text": [
      "/home/bovy/sfit4/sfit4_v0.9.4.4\n"
     ]
    }
   ],
   "source": [
    "%cd \"/home/bovy/sfit4/sfit4_v0.9.4.4/\""
   ]
  },
  {
   "cell_type": "code",
   "execution_count": 3,
   "metadata": {
    "collapsed": false,
    "jupyter": {
     "outputs_hidden": false
    }
   },
   "outputs": [
    {
     "data": {
      "text/plain": [
       "['test_cases_NDACC/x.ch4/sfit4.ctl',\n",
       " 'test_cases_NDACC/x.co/sfit4.ctl',\n",
       " 'test_cases_NDACC/x.hf/sfit4.ctl',\n",
       " 'test_cases_NDACC/x.ch4_test_rodgers/sfit4.ctl',\n",
       " 'test_cases_NDACC/x.hcl/sfit4.ctl',\n",
       " 'test_cases_NDACC/x.ccl4/sfit4.ctl',\n",
       " 'test_cases_features/x.o2.wlg/sfit4.ctl',\n",
       " 'test_cases_features/x.co2.tccon/sfit4.ctl',\n",
       " 'test_cases_features/hcl.multi.0.9.4.1/sfit4.ctl']"
      ]
     },
     "execution_count": 3,
     "metadata": {},
     "output_type": "execute_result"
    }
   ],
   "source": [
    "rootdirs = ['test_cases_NDACC', 'test_cases_features']\n",
    "ctls = [os.path.join(r, d, 'sfit4.ctl')\n",
    "        for r in rootdirs for d in os.listdir(r)\n",
    "        if os.path.isdir(os.path.join(r, d))]\n",
    "ctls"
   ]
  },
  {
   "cell_type": "code",
   "execution_count": 4,
   "metadata": {
    "collapsed": false,
    "jupyter": {
     "outputs_hidden": false
    }
   },
   "outputs": [
    {
     "name": "stdout",
     "output_type": "stream",
     "text": [
      "test_cases_NDACC/x.ch4/sfit4.ctl\n",
      "---> OK\n",
      "test_cases_NDACC/x.co/sfit4.ctl\n",
      "---> OK\n",
      "test_cases_NDACC/x.hf/sfit4.ctl\n",
      "---> OK\n",
      "test_cases_NDACC/x.ch4_test_rodgers/sfit4.ctl\n",
      "---> OK\n",
      "test_cases_NDACC/x.hcl/sfit4.ctl\n",
      "---> OK\n",
      "test_cases_NDACC/x.ccl4/sfit4.ctl\n",
      "---> OK\n",
      "test_cases_features/x.o2.wlg/sfit4.ctl\n",
      "---> OK\n",
      "test_cases_features/x.co2.tccon/sfit4.ctl\n"
     ]
    },
    {
     "name": "stderr",
     "output_type": "stream",
     "text": [
      "/home/bovy/GitRepos/spyfit/spyfit/io/_sfit4_read_out.py:681: UserWarning: expected output spectrum for gas CH4, scan 1, band 3 & iteration -1 but no file found\n",
      "  \"no file found\".format(g, s, b, i))\n",
      "/home/bovy/GitRepos/spyfit/spyfit/io/_sfit4_read_out.py:681: UserWarning: expected output spectrum for gas CO2, scan 1, band 3 & iteration -1 but no file found\n",
      "  \"no file found\".format(g, s, b, i))\n",
      "/home/bovy/GitRepos/spyfit/spyfit/io/_sfit4_read_out.py:681: UserWarning: expected output spectrum for gas HDO, scan 1, band 3 & iteration -1 but no file found\n",
      "  \"no file found\".format(g, s, b, i))\n",
      "/home/bovy/GitRepos/spyfit/spyfit/io/_sfit4_read_out.py:681: UserWarning: expected output spectrum for gas O2, scan 1, band 1 & iteration -1 but no file found\n",
      "  \"no file found\".format(g, s, b, i))\n",
      "/home/bovy/GitRepos/spyfit/spyfit/io/_sfit4_read_out.py:681: UserWarning: expected output spectrum for gas O2, scan 1, band 2 & iteration -1 but no file found\n",
      "  \"no file found\".format(g, s, b, i))\n",
      "/home/bovy/GitRepos/spyfit/spyfit/io/_sfit4_read_out.py:681: UserWarning: expected output spectrum for gas O2CIA, scan 1, band 1 & iteration -1 but no file found\n",
      "  \"no file found\".format(g, s, b, i))\n",
      "/home/bovy/GitRepos/spyfit/spyfit/io/_sfit4_read_out.py:681: UserWarning: expected output spectrum for gas O2CIA, scan 1, band 2 & iteration -1 but no file found\n",
      "  \"no file found\".format(g, s, b, i))\n"
     ]
    },
    {
     "name": "stdout",
     "output_type": "stream",
     "text": [
      "---> OK\n",
      "test_cases_features/hcl.multi.0.9.4.1/sfit4.ctl\n",
      "---> FAILED!!!\n",
      "     error: no single spectrum file found in /home/bovy/sfit4/sfit4_v0.9.4.4/test_cases_features/hcl.multi.0.9.4.1/spc.*\n"
     ]
    }
   ],
   "source": [
    "for f in ctls:\n",
    "    try:\n",
    "        print(f)\n",
    "        ds = spy.load_dataset(f, fmt='sfit4')\n",
    "        print('---> OK')\n",
    "    except Exception as e:\n",
    "        print('---> FAILED!!!')\n",
    "        print('     error: {}'.format(e))"
   ]
  }
 ],
 "metadata": {
  "kernelspec": {
   "display_name": "Python 3 (ipykernel)",
   "language": "python",
   "name": "python3"
  },
  "language_info": {
   "codemirror_mode": {
    "name": "ipython",
    "version": 3
   },
   "file_extension": ".py",
   "mimetype": "text/x-python",
   "name": "python",
   "nbconvert_exporter": "python",
   "pygments_lexer": "ipython3",
   "version": "3.8.16"
  }
 },
 "nbformat": 4,
 "nbformat_minor": 4
}
