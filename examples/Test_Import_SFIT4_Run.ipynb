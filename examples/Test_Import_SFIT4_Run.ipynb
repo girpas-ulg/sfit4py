{
 "cells": [
  {
   "cell_type": "code",
   "execution_count": 2,
   "metadata": {
    "tags": []
   },
   "outputs": [],
   "source": [
    "import os\n",
    "from collections import OrderedDict\n",
    "\n",
    "import numpy as np\n",
    "import pandas as pd\n",
    "import xarray as xr\n",
    "\n",
    "from spyfit.io import sfit4"
   ]
  },
  {
   "cell_type": "code",
   "execution_count": 2,
   "metadata": {
    "collapsed": false,
    "jupyter": {
     "outputs_hidden": false
    }
   },
   "outputs": [
    {
     "name": "stdout",
     "output_type": "stream",
     "text": [
      "/home/bovy/sfit4/sfit4_v0.9.4.4/test_cases_NDACC/x.co\n"
     ]
    }
   ],
   "source": [
    "%cd \"/home/bovy/sfit4/sfit4_v0.9.4.4/test_cases_NDACC/x.co/\""
   ]
  },
  {
   "cell_type": "code",
   "execution_count": 3,
   "metadata": {
    "collapsed": false,
    "jupyter": {
     "outputs_hidden": false
    }
   },
   "outputs": [
    {
     "name": "stdout",
     "output_type": "stream",
     "text": [
      "9.7M\t.\n",
      "9.7M\ttotal\n"
     ]
    }
   ],
   "source": [
    "!du -ch --exclude '*hbin*' --exclude 'sfit4.dtl' --exclude '*.nc'"
   ]
  },
  {
   "cell_type": "code",
   "execution_count": 4,
   "metadata": {
    "collapsed": false,
    "jupyter": {
     "outputs_hidden": false
    }
   },
   "outputs": [
    {
     "name": "stdout",
     "output_type": "stream",
     "text": [
      "02053.641622-02163.208378.hbin\tk.out\t       sa.out\t  spectrum\n",
      "ak.out\t\t\t\tkb.out\t       seinv.out  statevec\n",
      "aprfs.table\t\t\tpbpfile        sfit4.ctl  station.layers\n",
      "g.out\t\t\t\treference.prf  sfit4.dtl  summary\n",
      "hbin.input\t\t\trprfs.table    shat.out   test.nc\n"
     ]
    }
   ],
   "source": [
    "!ls"
   ]
  },
  {
   "cell_type": "code",
   "execution_count": 5,
   "metadata": {
    "collapsed": false,
    "jupyter": {
     "outputs_hidden": false
    }
   },
   "outputs": [],
   "source": [
    "_read_g_out = lambda f: read_table(f, var_name=\"gain_matrix\",\n",
    "                                   dims=('statevector', 'diag'),\n",
    "                                   index_cols=False)\n",
    "_read_k_out = lambda f: read_table(f, var_name=\"k_matrix\",\n",
    "                                   dims=('diag', 'statevector'))\n",
    "_read_kb_out = lambda f: read_table(f, var_name='kb_vectors',\n",
    "                                    dims=('diag', 'mparam'))\n",
    "_read_shat_out = lambda f: read_table(f, var_name=\"cov_matrix_fitted\",\n",
    "                                      dims=('statevector', 'statevector'))\n",
    "_read_sa_out = lambda f: read_table(f, var_name=\"cov_matrix_initial\",\n",
    "                                    dims=('statevector', 'statevector'))\n",
    "_read_sainv_out = lambda f: read_table(f, var_name=\"cov_matrix_initial_inv\",\n",
    "                                       dims=('statevector', 'statevector'))\n",
    "\n",
    "\n",
    "def _read_summary_clean(f):\n",
    "    d = read_summary(f)\n",
    "    # total column values may be slightly different than in\n",
    "    # `file.out.retprofiles` (not the same precision): skip it here.\n",
    "    for k in list(d['data_vars'].keys()):\n",
    "        if 'total_column' in k:\n",
    "            del d['data_vars'][k]\n",
    "    # wavenumber start/stop values are the same than in `sfit4.ctl`\n",
    "    # but not than in `file.out.pbpfile`: skip it here.\n",
    "    for k in ('spec_wn', 'spec_band', 'spec_scan'):\n",
    "        del d['coords'][k]\n",
    "    return d\n",
    "\n",
    "\n",
    "def _read_spectrum_raw(f):\n",
    "    # spectral, band and scan data in `file.in.spectrum` don't\n",
    "    # seem to be always equal to observed spectrum in `file.out.pbpfile`.\n",
    "    # use different dimension and variable names here.\n",
    "    d = read_spectrum(f, spdim='spectrum_in', bdim='band_in',\n",
    "                      sdim='scan_in', wcoord='spec_in_wn',\n",
    "                      scoord='spec_in_scan', bcoord='spec_in_band')\n",
    "    d['data_vars'] = {k.replace('spec_', 'spec_in_'): v\n",
    "                      for k, v in d['data_vars'].items()}\n",
    "    return d\n",
    "\n",
    "\n",
    "_map_file_read_func = {\n",
    "    # sfit4.ctl field name: (default sfit4 filename, read function) \n",
    "    'file__in__stalayers': ('station.layers', read_layers),\n",
    "    'file__in__refprofile': ('reference.prf', read_ref_profiles),\n",
    "    'file__in__spectrum': ('t15asc.4', _read_spectrum_raw),\n",
    "    'file__out__ak_matrix': ('ak.out', read_ak_matrix),\n",
    "    'file__out__seinv_vector': ('seinv.out', read_seinv_vector),\n",
    "    'file__out__g_matrix': ('g.out', _read_g_out),\n",
    "    'file__out__k_matrix': ('k.out', _read_k_out),\n",
    "    'file__out__kb_matrix': ('kb.out', _read_kb_out),\n",
    "    'file__out__shat_matrix': ('shat.complete', _read_shat_out),\n",
    "    'file__out__sa_matrix': ('sa.complete', _read_sa_out),\n",
    "    'file__out__sainv_matrix': ('sainv.complete', _read_sainv_out),\n",
    "    'file__out__aprprofiles': ('aprfs.table', read_aprfs),\n",
    "    'file__out__retprofiles': ('rprfs.table', read_rprfs),\n",
    "    'file__out__pbpfile': ('pbpfile', read_spectra),\n",
    "    'file__out__statevec': ('statevec', read_state_vector),\n",
    "    'file__out__summary': ('summary', _read_summary_clean),\n",
    "    'file__out__parm_vectors': ('parm.vectors', read_param_iterations),\n",
    "    'file__out__solarspectrum': ('solspec.dat', read_solar_spectrum),\n",
    "}"
   ]
  },
  {
   "cell_type": "code",
   "execution_count": 6,
   "metadata": {
    "collapsed": false,
    "jupyter": {
     "outputs_hidden": false
    }
   },
   "outputs": [],
   "source": [
    "#ds.sfit4_ctl"
   ]
  },
  {
   "cell_type": "code",
   "execution_count": 7,
   "metadata": {
    "collapsed": false,
    "jupyter": {
     "outputs_hidden": false
    }
   },
   "outputs": [],
   "source": [
    "def _read_and_merge(ds, read_func, filename, **kwargs):\n",
    "    temp_ds = xr.Dataset(**read_func(filename))\n",
    "    ds.merge(temp_ds, inplace=True, compat='equals', **kwargs)\n",
    "    \n",
    "    # xarray doesn't handle attribute merging\n",
    "    # update attrs dicts without checking\n",
    "    for k, v in temp_ds.variables.items():\n",
    "        ds[k].attrs.update(v.attrs)\n",
    "    ds.attrs.update(temp_ds.attrs)\n",
    "\n",
    "\n",
    "def load_sfit4_rundir(dirname):\n",
    "    ds = xr.Dataset(**read_ctl(os.path.join(dirname, \"sfit4.ctl\")))\n",
    "    sfit4_inputs = ds.sfit4_ctl.attrs\n",
    "\n",
    "    for input_name, v in _map_file_read_func.items():\n",
    "        default_filename, read_func = v\n",
    "        filename = sfit4_inputs.get(input_name, default_filename)\n",
    "        if not os.path.exists(filename):\n",
    "            continue\n",
    "        _read_and_merge(ds, read_func, filename)\n",
    "    \n",
    "    if sfit4_inputs.get('out__gas_spectra', False):\n",
    "        # overwrite spec_fitted__ALL (not the same precision\n",
    "        # than in pbpfile)\n",
    "        overwrite_spec = 'spec_fitted__ALL'\n",
    "        _read_and_merge(ds, read_single_spectra, 'spc.*',\n",
    "                        overwrite_vars=overwrite_spec)\n",
    "    \n",
    "    # TODO: convert spectrum coord to multi-index\n",
    "    \n",
    "    # update/overwrite global attributes\n",
    "    ds.attrs['source'] = os.path.abspath(dirname)\n",
    "    ds.attrs['description'] = 'data from a single sfit4 run'\n",
    "    \n",
    "    return ds\n",
    "\n",
    "# TODO: check 'diag' dimension, same scan/band ordering than 'spectrum' dim? "
   ]
  },
  {
   "cell_type": "code",
   "execution_count": 8,
   "metadata": {
    "collapsed": false,
    "jupyter": {
     "outputs_hidden": false
    }
   },
   "outputs": [
    {
     "name": "stdout",
     "output_type": "stream",
     "text": [
      "1 loop, best of 3: 1.2 s per loop\n"
     ]
    }
   ],
   "source": [
    "%timeit load_sfit4_rundir(os.curdir)"
   ]
  },
  {
   "cell_type": "code",
   "execution_count": 9,
   "metadata": {
    "collapsed": false,
    "jupyter": {
     "outputs_hidden": false
    }
   },
   "outputs": [
    {
     "data": {
      "text/plain": [
       "<xarray.Dataset>\n",
       "Dimensions:                      (band: 3, band_in: 3, diag: 928, iteration: 1, kernel: 43, level: 43, level_lbound: 44, mparam: 57, param: 15, rlevel: 41, scan: 1, scan_in: 1, spectrum: 928, spectrum_in: 928, statevector: 147)\n",
       "Coordinates:\n",
       "  * level                        (level) int64 0 1 2 3 4 5 6 7 8 9 10 11 12 ...\n",
       "  * statevector                  (statevector) <U13 'BckGrdSlp_1' ...\n",
       "  * diag                         (diag) int64 0 1 2 3 4 5 6 7 8 9 10 11 12 ...\n",
       "  * level_lbound                 (level_lbound) int64 0 1 2 3 4 5 6 7 8 9 10 ...\n",
       "  * rlevel                       (rlevel) int64 0 1 2 3 4 5 6 7 8 9 10 11 12 ...\n",
       "  * mparam                       (mparam) <U11 'BckGrdCur_1' 'BckGrdCur_2' ...\n",
       "  * kernel                       (kernel) int64 0 1 2 3 4 5 6 7 8 9 10 11 12 ...\n",
       "    spec_band                    (spectrum) int64 1 1 1 1 1 1 1 1 1 1 1 1 1 ...\n",
       "  * iteration                    (iteration) int64 -1\n",
       "    spec_scan                    (spectrum) int64 1 1 1 1 1 1 1 1 1 1 1 1 1 ...\n",
       "    spec_wn                      (spectrum) float64 2.058e+03 2.058e+03 ...\n",
       "  * spectrum                     (spectrum) int64 0 1 2 3 4 5 6 7 8 9 10 11 ...\n",
       "    spec_in_band                 (spectrum_in) int64 1 1 1 1 1 1 1 1 1 1 1 1 ...\n",
       "    spec_in_wn                   (spectrum_in) float64 2.058e+03 2.058e+03 ...\n",
       "    spec_in_scan                 (spectrum_in) int64 1 1 1 1 1 1 1 1 1 1 1 1 ...\n",
       "  * scan_in                      (scan_in) int64 1\n",
       "  * band_in                      (band_in) int64 1 2 3\n",
       "  * spectrum_in                  (spectrum_in) int64 0 1 2 3 4 5 6 7 8 9 10 ...\n",
       "  * scan                         (scan) int64 1\n",
       "  * band                         (band) int64 1 2 3\n",
       "  * param                        (param) <U13 'BckGrdSlp_1' 'BckGrdSlp_2' ...\n",
       "Data variables:\n",
       "    gas__profile__CO__sigma      (level) float64 0.1268 0.1134 0.1225 0.1342 ...\n",
       "    gas__profile__O3__sigma      (level) float64 0.1268 0.1134 0.1225 0.1342 ...\n",
       "    gas__profile__H2O__sigma     (level) float64 1.0 1.0 1.0 1.0 1.0 1.0 1.0 ...\n",
       "    gas__profile__N2O__sigma     (level) float64 1.0 1.0 1.0 1.0 1.0 1.0 1.0 ...\n",
       "    sfit4_ctl                    float64 nan\n",
       "    k_matrix                     (diag, statevector) float64 -0.1546 0.0 0.0 ...\n",
       "    cov_matrix_initial           (statevector, statevector) float64 0.01 0.0 ...\n",
       "    cov_matrix_fitted            (statevector, statevector) float64 0.002234 ...\n",
       "    station_altitude             (level) float64 95.0 85.0 77.2 70.9 64.4 ...\n",
       "    station_altitude_lbound      (level_lbound) float64 100.0 90.0 80.0 74.4 ...\n",
       "    reference__O3668             (rlevel) float64 9e-08 4.6e-07 7e-07 5e-07 ...\n",
       "    reference__CHF2CL            (rlevel) float64 0.0 0.0 0.0 0.0 0.0 0.0 ...\n",
       "    reference__CH3CCL3           (rlevel) float64 6.04e-35 5.56e-34 2.4e-33 ...\n",
       "    reference__N2O               (rlevel) float64 2.89e-11 4.2e-11 5.99e-11 ...\n",
       "    reference__temperature       (rlevel) float64 215.1 199.3 191.1 194.4 ...\n",
       "    reference__O3676             (rlevel) float64 9e-08 4.6e-07 7e-07 5e-07 ...\n",
       "    reference__SF6               (rlevel) float64 0.0 0.0 0.0 0.0 0.0 0.0 ...\n",
       "    reference__H217O             (rlevel) float64 4e-07 6.02e-07 8.5e-07 ...\n",
       "    reference__CCL2F2            (rlevel) float64 1e-14 1e-14 1e-14 1e-14 ...\n",
       "    reference__CCL3F             (rlevel) float64 0.0 0.0 0.0 0.0 0.0 0.0 ...\n",
       "    reference__SO2               (rlevel) float64 3.58e-13 1.16e-12 2.24e-12 ...\n",
       "    reference__O3                (rlevel) float64 1.04e-06 1.68e-06 1.58e-06 ...\n",
       "    reference__C2H4              (rlevel) float64 1e-15 1e-15 1e-15 1e-15 ...\n",
       "    reference__CH3OH             (rlevel) float64 0.0 0.0 0.0 0.0 0.0 0.0 ...\n",
       "    reference__CH3CL             (rlevel) float64 4.04e-15 7.3e-15 1.22e-14 ...\n",
       "    reference__HO2NO2            (rlevel) float64 9.58e-20 7.32e-19 4.63e-18 ...\n",
       "    reference__HBR               (rlevel) float64 1.35e-20 2.51e-18 3.99e-16 ...\n",
       "    reference__CF4               (rlevel) float64 3e-11 3e-11 3e-11 3e-11 ...\n",
       "    reference__CLONO2            (rlevel) float64 3.5e-27 3.1e-24 1.86e-21 ...\n",
       "    reference__COCLF             (rlevel) float64 0.0 0.0 0.0 0.0 0.0 0.0 ...\n",
       "    reference__OH                (rlevel) float64 2.71e-11 9.13e-11 2.06e-10 ...\n",
       "    reference__N2O5              (rlevel) float64 2.35e-21 3.19e-20 2.41e-19 ...\n",
       "    reference__COF2              (rlevel) float64 1e-10 1e-10 1e-10 1e-10 ...\n",
       "    reference__HI                (rlevel) float64 3e-12 3e-12 3e-12 3e-12 ...\n",
       "    reference__CH4               (rlevel) float64 1.22e-09 2.89e-09 7.3e-09 ...\n",
       "    reference__O2                (rlevel) float64 0.158 0.18 0.195 0.205 ...\n",
       "    reference__C3H8              (rlevel) float64 3e-15 3e-15 3e-15 3e-15 ...\n",
       "    reference__CH3BR             (rlevel) float64 1.97e-41 2.6e-40 1.4e-39 ...\n",
       "    reference__HF                (rlevel) float64 7.34e-10 7.34e-10 7.34e-10 ...\n",
       "    reference__CHCL2F            (rlevel) float64 0.0 0.0 0.0 0.0 0.0 0.0 ...\n",
       "    reference__HDO               (rlevel) float64 4e-07 6.02e-07 8.5e-07 ...\n",
       "    reference__HCN               (rlevel) float64 1.5e-10 1.5e-10 1.5e-10 ...\n",
       "    reference__H2O               (rlevel) float64 8.12e-08 1.67e-07 3.67e-07 ...\n",
       "    reference__CH3I              (rlevel) float64 0.0 0.0 0.0 0.0 0.0 0.0 ...\n",
       "    reference__HCL               (rlevel) float64 3.27e-10 5.97e-10 9.75e-10 ...\n",
       "    reference__C2H2              (rlevel) float64 1e-14 1e-14 1e-14 1e-14 ...\n",
       "    reference__N2                (rlevel) float64 0.777 0.78 0.781 0.781 ...\n",
       "    reference__pressure          (rlevel) float64 0.0002758 0.0006169 ...\n",
       "    reference__C2H6              (rlevel) float64 1e-14 1e-14 1e-14 1e-14 ...\n",
       "    reference__HONO              (rlevel) float64 3.16e-15 1e-14 1e-14 1e-14 ...\n",
       "    reference__CH3D              (rlevel) float64 2.15e-08 2.82e-08 3.36e-08 ...\n",
       "    reference__O3667             (rlevel) float64 9e-08 4.6e-07 7e-07 5e-07 ...\n",
       "    reference__NH3               (rlevel) float64 1e-14 1e-14 1e-14 1e-14 ...\n",
       "    reference__O3686             (rlevel) float64 9e-08 4.6e-07 7e-07 5e-07 ...\n",
       "    reference__altitude          (rlevel) float64 100.0 95.0 90.0 85.0 80.0 ...\n",
       "    reference__F141B             (rlevel) float64 1.45e-12 1.49e-12 1.51e-12 ...\n",
       "    reference__OCS               (rlevel) float64 1e-14 1e-14 1e-14 1e-14 ...\n",
       "    reference__H2S               (rlevel) float64 0.0 0.0 0.0 0.0 0.0 0.0 ...\n",
       "    reference__COCL2             (rlevel) float64 1e-16 1e-16 1e-16 1e-16 ...\n",
       "    reference__CH3F              (rlevel) float64 5e-14 5e-14 5e-14 5e-14 ...\n",
       "    reference__CCL4              (rlevel) float64 5.38e-38 1.07e-36 5.6e-36 ...\n",
       "    reference__CLO               (rlevel) float64 1.5e-14 5.33e-14 1.09e-13 ...\n",
       "    reference__F134A             (rlevel) float64 1.25e-12 1.29e-12 1.3e-12 ...\n",
       "    reference__CO2               (rlevel) float64 0.00019 0.000246 0.000285 ...\n",
       "    reference__CO                (rlevel) float64 2.34e-05 1.98e-05 1.64e-05 ...\n",
       "    reference__CFC113            (rlevel) float64 1.08e-11 1.11e-11 1.13e-11 ...\n",
       "    reference__OCLO              (rlevel) float64 1e-12 1e-12 1e-12 1e-12 ...\n",
       "    reference__NO2               (rlevel) float64 2.18e-12 1.06e-12 5.77e-13 ...\n",
       "    reference__HOCL              (rlevel) float64 6.96e-24 4.66e-22 1.53e-19 ...\n",
       "    reference__H2CO              (rlevel) float64 1e-14 1.36e-14 2.62e-14 ...\n",
       "    reference__HCOOH             (rlevel) float64 0.0 0.0 0.0 0.0 0.0 0.0 ...\n",
       "    reference__NO                (rlevel) float64 2.16e-05 3.57e-06 9.3e-07 ...\n",
       "    reference__F142B             (rlevel) float64 1.39e-12 1.43e-12 1.45e-12 ...\n",
       "    reference__H218O             (rlevel) float64 4e-07 6.02e-07 8.5e-07 ...\n",
       "    reference__H2O2              (rlevel) float64 1.39e-15 2.08e-14 2.91e-13 ...\n",
       "    reference__HNO3              (rlevel) float64 2.7e-14 2.73e-14 2.84e-14 ...\n",
       "    reference__HO2               (rlevel) float64 1.33e-13 8.45e-13 4.92e-12 ...\n",
       "    kb_vectors                   (diag, mparam) float64 -0.02623 0.0 0.0 ...\n",
       "    averaging_kernels            (kernel, level) float64 0.000203 0.0006986 ...\n",
       "    gain_matrix                  (statevector, diag) float64 -1.108 -0.3545 ...\n",
       "    spec_fitted__ALL             (iteration, spectrum) float64 0.9106 0.9716 ...\n",
       "    spec_observed                (spectrum) float64 0.9108 0.9728 0.9988 ...\n",
       "    spec_in_observed             (spectrum_in) float64 4.568 4.88 5.01 4.995 ...\n",
       "    spec_in_sza                  (scan_in) float64 77.96\n",
       "    spec_in_latitude             (scan_in) float64 78.92\n",
       "    spec_in_datetime             (scan_in) datetime64[ns] 2011-03-25T09:52:32\n",
       "    spec_in_snr_initial          (band_in, scan_in) float64 184.5 191.3 153.3\n",
       "    spec_in_earth_radius         (scan_in) float64 6.358e+03\n",
       "    spec_in_longitude            (scan_in) float64 11.92\n",
       "    spec_opd_max                 (band) float64 180.0 180.0 180.0\n",
       "    spec_fov                     (band) float64 2.392 2.392 2.392\n",
       "    sfit4_summary                float64 nan\n",
       "    spec_snr_calculated          (band, scan) float64 145.4 212.6 174.4\n",
       "    spec_snr_initial             (band, scan) float64 184.5 191.3 153.3\n",
       "    retrieved___OCS              (level) float64 6.997e-15 6.997e-15 ...\n",
       "    retrieved___O3               (level) float64 1.552e-06 5.618e-07 ...\n",
       "    retrieved___pressure         (level) float64 0.0008599 0.005104 0.0153 ...\n",
       "    retrieved___CO               (level) float64 1.873e-05 1.049e-05 ...\n",
       "    retrieved___z                (level) float64 90.0 80.0 74.4 67.4 61.4 ...\n",
       "    retrieved___airmass          (level) float64 2.55e+19 1.508e+20 ...\n",
       "    retrieved___zbar             (level) float64 95.0 85.0 77.2 70.9 64.4 ...\n",
       "    retrieved___CO2              (level) float64 0.0002816 0.0003592 ...\n",
       "    retrieved___H2O              (level) float64 3.188e-09 2.152e-08 ...\n",
       "    retrieved___N2O              (level) float64 4.714e-11 9.905e-11 ...\n",
       "    retrieved___temperature      (level) float64 197.9 195.3 204.3 219.1 ...\n",
       "    apriori___CHF2CL             (level) float64 0.0 0.0 0.0 0.0 0.0 0.0 0.0 ...\n",
       "    apriori___CCL3F              (level) float64 0.0 0.0 0.0 0.0 0.0 0.0 0.0 ...\n",
       "    apriori___CH4                (level) float64 4.198e-09 3.814e-08 ...\n",
       "    apriori___temperature        (level) float64 197.9 195.3 204.3 219.1 ...\n",
       "    apriori___HCN                (level) float64 1.5e-10 1.5e-10 1.5e-10 ...\n",
       "    apriori___CO2                (level) float64 0.0002541 0.0003241 ...\n",
       "    apriori___HCOOH              (level) float64 0.0 0.0 0.0 0.0 0.0 0.0 0.0 ...\n",
       "    apriori___HO2NO2             (level) float64 1.796e-18 2.825e-16 ...\n",
       "    apriori___zbar               (level) float64 95.0 85.0 77.2 70.9 64.4 ...\n",
       "    apriori___HO2                (level) float64 1.97e-12 7.284e-10 ...\n",
       "    apriori___CF4                (level) float64 3e-11 3e-11 3e-11 3.001e-11 ...\n",
       "    apriori___COCL2              (level) float64 1e-16 1e-16 1e-16 1e-16 ...\n",
       "    apriori___CH3CL              (level) float64 8.687e-15 2.465e-14 ...\n",
       "    apriori___CO                 (level) float64 1.882e-05 1.063e-05 ...\n",
       "    apriori___HI                 (level) float64 3e-12 3e-12 3e-12 3.001e-12 ...\n",
       "    apriori___C5H8               (level) float64 0.0 0.0 0.0 0.0 0.0 0.0 0.0 ...\n",
       "    apriori___SF6                (level) float64 0.0 0.0 0.0 0.0 0.0 0.0 ...\n",
       "    apriori___N2                 (level) float64 0.78 0.781 0.7811 0.7812 ...\n",
       "    apriori___N2O5               (level) float64 8.752e-20 6.736e-18 ...\n",
       "    apriori___MVK                (level) float64 0.0 0.0 0.0 0.0 0.0 0.0 0.0 ...\n",
       "    apriori___C2H4               (level) float64 1e-15 1e-15 1e-15 1e-15 ...\n",
       "    apriori___HF                 (level) float64 7.34e-10 7.34e-10 7.341e-10 ...\n",
       "    apriori___OCLO               (level) float64 1e-12 1e-12 1e-12 1e-12 ...\n",
       "    apriori___COF2               (level) float64 1e-10 1e-10 1e-10 1.002e-10 ...\n",
       "    apriori___CCL4               (level) float64 2.286e-36 1.001e-34 ...\n",
       "    apriori___H2S                (level) float64 0.0 0.0 0.0 0.0 0.0 0.0 0.0 ...\n",
       "    apriori___CH3CHO             (level) float64 0.0 0.0 0.0 0.0 0.0 0.0 0.0 ...\n",
       "    apriori___CCL2F2             (level) float64 1e-14 1e-14 1.023e-14 ...\n",
       "    apriori___H2CO               (level) float64 1.775e-14 9.451e-14 ...\n",
       "    apriori___HOCL               (level) float64 2.446e-20 5.717e-14 ...\n",
       "    apriori___HONO               (level) float64 8.957e-15 1e-14 1.333e-14 ...\n",
       "    apriori___C3H6               (level) float64 0.0 0.0 0.0 0.0 0.0 0.0 0.0 ...\n",
       "    apriori___NF3                (level) float64 0.0 0.0 0.0 0.0 0.0 0.0 0.0 ...\n",
       "    apriori___CH3F               (level) float64 5e-14 5e-14 5.001e-14 ...\n",
       "    apriori___F141B              (level) float64 1.493e-12 1.527e-12 ...\n",
       "    apriori___MACR               (level) float64 0.0 0.0 0.0 0.0 0.0 0.0 0.0 ...\n",
       "    apriori___OCS                (level) float64 1e-14 1e-14 1e-14 1e-14 ...\n",
       "    apriori___z                  (level) float64 90.0 80.0 74.4 67.4 61.4 ...\n",
       "    apriori___NH3                (level) float64 1e-14 1e-14 1e-14 1e-14 ...\n",
       "    apriori___HNO3               (level) float64 2.771e-14 1.021e-13 ...\n",
       "    apriori___C2H2               (level) float64 1e-14 1e-14 1e-14 1e-14 ...\n",
       "    apriori___O2CIA              (level) float64 0.0 0.0 0.0 0.0 0.0 0.0 0.0 ...\n",
       "    apriori___CH3I               (level) float64 0.0 0.0 0.0 0.0 0.0 0.0 0.0 ...\n",
       "    apriori___CLO                (level) float64 6.763e-14 1.027e-12 ...\n",
       "    apriori___OH                 (level) float64 1.225e-10 2.477e-09 ...\n",
       "    apriori___H2O2               (level) float64 8.802e-14 8.098e-11 ...\n",
       "    apriori___CH3CCL3            (level) float64 1.062e-33 4.923e-32 ...\n",
       "    apriori___CLONO2             (level) float64 2.726e-22 1.975e-17 ...\n",
       "    apriori___CH3OH              (level) float64 0.0 0.0 0.0 0.0 0.0 0.0 0.0 ...\n",
       "    apriori___airmass            (level) float64 2.55e+19 1.508e+20 ...\n",
       "    apriori___HBR                (level) float64 7.153e-17 4.728e-14 ...\n",
       "    apriori___CHCL2F             (level) float64 0.0 0.0 0.0 0.0 0.0 0.0 0.0 ...\n",
       "    apriori___F142B              (level) float64 1.433e-12 1.467e-12 ...\n",
       "    apriori___F134A              (level) float64 1.289e-12 1.317e-12 ...\n",
       "    apriori___SO2                (level) float64 1.434e-12 8.073e-12 2.6e-11 ...\n",
       "    apriori___pressure           (level) float64 0.0008599 0.005104 0.0153 ...\n",
       "    apriori___CH3BR              (level) float64 5.69e-40 1.254e-38 ...\n",
       "    apriori___CH3COOH            (level) float64 0.0 0.0 0.0 0.0 0.0 0.0 0.0 ...\n",
       "    apriori___CH3CN              (level) float64 0.0 0.0 0.0 0.0 0.0 0.0 0.0 ...\n",
       "    apriori___C2H6               (level) float64 1e-14 1e-14 1e-14 1e-14 ...\n",
       "    apriori___N2O                (level) float64 4.714e-11 9.905e-11 ...\n",
       "    apriori___O2                 (level) float64 0.1832 0.2054 0.2097 0.211 ...\n",
       "    apriori___C3H8               (level) float64 3e-15 3e-15 3.001e-15 ...\n",
       "    apriori___PAN                (level) float64 0.0 0.0 0.0 0.0 0.0 0.0 0.0 ...\n",
       "    apriori___O3                 (level) float64 1.552e-06 5.618e-07 ...\n",
       "    apriori___H2O                (level) float64 2.267e-07 1.531e-06 ...\n",
       "    apriori___C4H8               (level) float64 0.0 0.0 0.0 0.0 0.0 0.0 0.0 ...\n",
       "    apriori___HCL                (level) float64 7.019e-10 2.034e-09 ...\n",
       "    apriori___NO                 (level) float64 3.832e-06 2.053e-07 ...\n",
       "    apriori___C2H6PL             (level) float64 0.0 0.0 0.0 0.0 0.0 0.0 0.0 ...\n",
       "    apriori___CH3CNPL            (level) float64 0.0 0.0 0.0 0.0 0.0 0.0 0.0 ...\n",
       "    apriori___CFC113             (level) float64 1.114e-11 1.139e-11 ...\n",
       "    apriori___COCLF              (level) float64 0.0 0.0 1.838e-18 8.642e-17 ...\n",
       "    apriori___NO2                (level) float64 9.681e-13 2.031e-11 ...\n",
       "    retrieved_total_column__CO2  float64 8.822e+21\n",
       "    retrieved_total_column__H2O  float64 3.685e+20\n",
       "    apriori_total_column__CO     float64 1.714e+18\n",
       "    apriori_total_column__N2O    float64 6.319e+18\n",
       "    apriori__CO2                 (level) float64 0.0002541 0.0003241 ...\n",
       "    apriori__N2O                 (level) float64 4.714e-11 9.905e-11 ...\n",
       "    apriori__H2O                 (level) float64 2.267e-07 1.531e-06 ...\n",
       "    apriori_total_column__H2O    float64 2.621e+22\n",
       "    retrieved_total_column__OCS  float64 7.796e+15\n",
       "    apriori_total_column__CO2    float64 7.96e+21\n",
       "    apriori_temperature          (level) float64 197.9 195.3 204.3 219.1 ...\n",
       "    retrieved__OCS               (level) float64 6.997e-15 6.997e-15 ...\n",
       "    retrieved__O3                (level) float64 1.552e-06 5.618e-07 ...\n",
       "    retrieved__CO                (level) float64 1.873e-05 1.049e-05 ...\n",
       "    apriori__OCS                 (level) float64 1e-14 1e-14 1e-14 1e-14 ...\n",
       "    apriori_parameters           (param) float64 0.0 0.0 0.0 0.0 0.0 0.0 0.0 ...\n",
       "    retrieved__N2O               (level) float64 4.714e-11 9.905e-11 ...\n",
       "    apriori_pressure             (level) float64 0.0008599 0.005104 0.0153 ...\n",
       "    retrieved_total_column__O3   float64 7.379e+18\n",
       "    retrieved_parameters         (param) float64 0.2817 0.006768 -0.01748 ...\n",
       "    apriori__O3                  (level) float64 1.552e-06 5.618e-07 ...\n",
       "    retrieved_total_column__N2O  float64 6.405e+18\n",
       "    retrieved__CO2               (level) float64 0.0002816 0.0003592 ...\n",
       "    retrieved_total_column__CO   float64 2.489e+18\n",
       "    apriori_total_column__OCS    float64 1.114e+16\n",
       "    apriori__CO                  (level) float64 1.882e-05 1.063e-05 ...\n",
       "    retrieved__H2O               (level) float64 3.188e-09 2.152e-08 ...\n",
       "    apriori_total_column__O3     float64 8.646e+18\n",
       "    seinv                        (diag) float64 3.404e+04 3.404e+04 ...\n",
       "Attributes:\n",
       "    source: /home/bovy/sfit4/sfit4_v0.9.4.4/test_cases_NDACC/x.co\n",
       "    sfit4_version: 0.9.4.3\n",
       "    sfit4_runtime: 2014-06-03 08:05:55\n",
       "    description: data from a single sfit4 run"
      ]
     },
     "execution_count": 9,
     "metadata": {},
     "output_type": "execute_result"
    }
   ],
   "source": [
    "ds = load_sfit4_rundir(os.curdir)\n",
    "ds"
   ]
  },
  {
   "cell_type": "code",
   "execution_count": 10,
   "metadata": {
    "collapsed": false,
    "jupyter": {
     "outputs_hidden": false
    }
   },
   "outputs": [],
   "source": [
    "def convert_bool_attrs(dataset):\n",
    "    bool2str = lambda v: 'T' if v is True else 'F' if v is False else v\n",
    "    for var in dataset.variables.values():\n",
    "        for k, v in var.attrs.items():\n",
    "            var.attrs[k] = bool2str(v)\n",
    "    for k, v in ds.attrs.items():\n",
    "        ds.attrs[k] = bool2str(v)\n",
    "\n",
    "convert_bool_attrs(ds)\n",
    "encoding = {k: {'zlib': True} for k in ds.variables.keys()}\n",
    "#encoding = {}\n",
    "\n",
    "ds.to_netcdf('test.nc', encoding=encoding)"
   ]
  },
  {
   "cell_type": "code",
   "execution_count": 11,
   "metadata": {
    "collapsed": false,
    "jupyter": {
     "outputs_hidden": false
    }
   },
   "outputs": [
    {
     "name": "stdout",
     "output_type": "stream",
     "text": [
      "2.6M\ttest.nc\n"
     ]
    }
   ],
   "source": [
    "!du -sh test.nc"
   ]
  }
 ],
 "metadata": {
  "kernelspec": {
   "display_name": "Python 3 (ipykernel)",
   "language": "python",
   "name": "python3"
  },
  "language_info": {
   "codemirror_mode": {
    "name": "ipython",
    "version": 3
   },
   "file_extension": ".py",
   "mimetype": "text/x-python",
   "name": "python",
   "nbconvert_exporter": "python",
   "pygments_lexer": "ipython3",
   "version": "3.8.16"
  }
 },
 "nbformat": 4,
 "nbformat_minor": 4
}
